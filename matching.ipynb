{
 "cells": [
  {
   "cell_type": "code",
   "execution_count": 102,
   "metadata": {
    "collapsed": true
   },
   "outputs": [],
   "source": [
    "import numpy\n",
    "from matplotlib import pylab as plt"
   ]
  },
  {
   "cell_type": "code",
   "execution_count": 103,
   "metadata": {
    "collapsed": true
   },
   "outputs": [],
   "source": [
    "from lsst.daf.persistence import Butler\n",
    "from lsst.afw.image import abMagFromFlux, fluxFromABMag\n",
    "from lsst.afw.table import MultiMatch"
   ]
  },
  {
   "cell_type": "code",
   "execution_count": 104,
   "metadata": {
    "collapsed": true
   },
   "outputs": [],
   "source": [
    "butler = Butler('/usr/shared/winkles/output_data_v2')\n",
    "subset = butler.subset('src', filter='r')"
   ]
  },
  {
   "cell_type": "code",
   "execution_count": 105,
   "metadata": {
    "collapsed": true
   },
   "outputs": [],
   "source": [
    "matched_cat = None\n",
    "calexps = {}\n",
    "for data_ref in subset:\n",
    "    data_id = data_ref.dataId\n",
    "    src_cat = data_ref.get('src')\n",
    "    calexps[data_id['visit']] = data_ref.get('calexp')\n",
    "    if matched_cat is None:\n",
    "        id_fmt = {'visit':numpy.int64}\n",
    "        matched_cat = MultiMatch(src_cat.schema, id_fmt)\n",
    "    matched_cat.add(src_cat, data_id)\n",
    "final_catalog = matched_cat.finish()"
   ]
  },
  {
   "cell_type": "code",
   "execution_count": 106,
   "metadata": {
    "collapsed": true
   },
   "outputs": [],
   "source": [
    "object_ids = final_catalog.get('object')\n",
    "unique_object_ids = set(object_ids)"
   ]
  },
  {
   "cell_type": "code",
   "execution_count": 107,
   "metadata": {
    "collapsed": false
   },
   "outputs": [
    {
     "name": "stderr",
     "output_type": "stream",
     "text": [
      "/opt/lsst/software/stack/python/miniconda3-4.3.21/lib/python3.6/site-packages/numpy/lib/function_base.py:1128: RuntimeWarning: Mean of empty slice.\n",
      "  avg = a.mean(axis)\n",
      "/opt/lsst/software/stack/python/miniconda3-4.3.21/lib/python3.6/site-packages/numpy/core/_methods.py:80: RuntimeWarning: invalid value encountered in double_scalars\n",
      "  ret = ret.dtype.type(ret / rcount)\n",
      "/opt/lsst/software/stack/python/miniconda3-4.3.21/lib/python3.6/site-packages/numpy/core/_methods.py:135: RuntimeWarning: Degrees of freedom <= 0 for slice\n",
      "  keepdims=keepdims)\n",
      "/opt/lsst/software/stack/python/miniconda3-4.3.21/lib/python3.6/site-packages/numpy/core/_methods.py:105: RuntimeWarning: invalid value encountered in true_divide\n",
      "  arrmean, rcount, out=arrmean, casting='unsafe', subok=False)\n",
      "/opt/lsst/software/stack/python/miniconda3-4.3.21/lib/python3.6/site-packages/numpy/core/_methods.py:127: RuntimeWarning: invalid value encountered in double_scalars\n",
      "  ret = ret.dtype.type(ret / rcount)\n"
     ]
    }
   ],
   "source": [
    "object_count = {}\n",
    "avg_flux = {}\n",
    "stdev_flux = {}\n",
    "avg_snr = {}\n",
    "for obj_id in unique_object_ids:\n",
    "    idx = numpy.where(final_catalog.get('object')==obj_id)[0]\n",
    "    flux_inst = final_catalog.get('base_PsfFlux_flux')[idx]\n",
    "    flux_inst_err = final_catalog.get('base_PsfFlux_fluxSigma')[idx]\n",
    "    visit = final_catalog.get('visit')[idx]\n",
    "    flux = []\n",
    "    flux_err = []\n",
    "    for f, f_err, v in zip(flux_inst, flux_inst_err, visit):\n",
    "        if f > 0.:\n",
    "            calib = calexps[v].getCalib()\n",
    "            flux.append(fluxFromABMag(calib.getMagnitude(f)))\n",
    "            flux_err.append(fluxFromABMag(calib.getMagnitude(f_err)))\n",
    "    flux = numpy.array(flux)\n",
    "    flux_err = numpy.array(flux_err)\n",
    "    object_count[obj_id] = len(flux)\n",
    "    avg_flux[obj_id] = numpy.average(flux)\n",
    "    stdev_flux[obj_id] = numpy.std(flux)\n",
    "    avg_snr[obj_id] = sum(flux/flux_err)"
   ]
  },
  {
   "cell_type": "code",
   "execution_count": 108,
   "metadata": {
    "collapsed": true
   },
   "outputs": [],
   "source": [
    "mags = []\n",
    "g_flux = []\n",
    "g_flux_std = []\n",
    "g_snr = []\n",
    "for obj_id in unique_object_ids:\n",
    "    if object_count[obj_id] > 8:\n",
    "        g_flux.append(avg_flux[obj_id])\n",
    "        g_flux_std.append(stdev_flux[obj_id])\n",
    "        g_snr.append(avg_snr[obj_id])\n",
    "        mags.append(abMagFromFlux(avg_flux[obj_id]))\n",
    "g_flux = numpy.array(g_flux)\n",
    "g_flux_std = numpy.array(g_flux_std)"
   ]
  },
  {
   "cell_type": "code",
   "execution_count": 109,
   "metadata": {
    "collapsed": false
   },
   "outputs": [
    {
     "data": {
      "text/plain": [
       "<matplotlib.collections.PathCollection at 0x7f47c15aae80>"
      ]
     },
     "execution_count": 109,
     "metadata": {},
     "output_type": "execute_result"
    },
    {
     "data": {
      "image/png": "[encoded data removed]",
      "text/plain": [
       "<matplotlib.figure.Figure at 0x7f47c2fd9f98>"
      ]
     },
     "metadata": {},
     "output_type": "display_data"
    }
   ],
   "source": [
    "plt.scatter(mags, g_snr)"
   ]
  },
  {
   "cell_type": "code",
   "execution_count": 110,
   "metadata": {
    "collapsed": false
   },
   "outputs": [
    {
     "data": {
      "text/plain": [
       "<matplotlib.collections.PathCollection at 0x7f47473f8160>"
      ]
     },
     "execution_count": 110,
     "metadata": {},
     "output_type": "execute_result"
    },
    {
     "data": {
      "image/png": "[encoded data removed]",
      "text/plain": [
       "<matplotlib.figure.Figure at 0x7f47c15aae48>"
      ]
     },
     "metadata": {},
     "output_type": "display_data"
    }
   ],
   "source": [
    "plt.scatter(mags, g_flux/g_flux_std)"
   ]
  }
 ],
 "metadata": {
  "kernelspec": {
   "display_name": "Python 3",
   "language": "python",
   "name": "python3"
  },
  "language_info": {
   "codemirror_mode": {
    "name": "ipython",
    "version": 3
   },
   "file_extension": ".py",
   "mimetype": "text/x-python",
   "name": "python",
   "nbconvert_exporter": "python",
   "pygments_lexer": "ipython3",
   "version": "3.5.2"
  }
 },
 "nbformat": 4,
 "nbformat_minor": 2
}

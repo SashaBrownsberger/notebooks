{
 "cells": [
  {
   "cell_type": "code",
   "execution_count": null,
   "metadata": {
    "collapsed": true
   },
   "outputs": [],
   "source": [
    "import numpy\n",
    "from matplotlib import pylab as plt"
   ]
  },
  {
   "cell_type": "code",
   "execution_count": null,
   "metadata": {
    "collapsed": true
   },
   "outputs": [],
   "source": [
    "from lsst.daf.persistence import Butler\n",
    "from lsst.afw.image import abMagFromFlux, fluxFromABMag\n",
    "from lsst.afw.table import MultiMatch\n",
    "from lsst.meas.astrom import DirectMatchTask"
   ]
  },
  {
   "cell_type": "code",
   "execution_count": null,
   "metadata": {
    "collapsed": true
   },
   "outputs": [],
   "source": [
    "butler = Butler('/home/shared/twinkles/output_data_v2')\n",
    "subset = butler.subset('src', filter='r')"
   ]
  },
  {
   "cell_type": "code",
   "execution_count": null,
   "metadata": {
    "collapsed": true
   },
   "outputs": [],
   "source": [
    "matched_cat = None\n",
    "calexps = {}\n",
    "for data_ref in subset:\n",
    "    data_id = data_ref.dataId\n",
    "    src_cat = data_ref.get('src')\n",
    "    calexps[data_id['visit']] = data_ref.get('calexp')\n",
    "    if matched_cat is None:\n",
    "        id_fmt = {'visit':numpy.int64}\n",
    "        matched_cat = MultiMatch(src_cat.schema, id_fmt)\n",
    "    matched_cat.add(src_cat, data_id)\n",
    "final_catalog = matched_cat.finish()"
   ]
  },
  {
   "cell_type": "code",
   "execution_count": null,
   "metadata": {
    "collapsed": true
   },
   "outputs": [],
   "source": [
    "object_ids = final_catalog.get('object')\n",
    "unique_object_ids = set(object_ids)"
   ]
  },
  {
   "cell_type": "code",
   "execution_count": null,
   "metadata": {
    "collapsed": false
   },
   "outputs": [],
   "source": [
    "object_count = {}\n",
    "avg_flux = {}\n",
    "stdev_flux = {}\n",
    "avg_snr = {}\n",
    "for obj_id in unique_object_ids:\n",
    "    idx = numpy.where(final_catalog.get('object')==obj_id)[0]\n",
    "    flux_inst = final_catalog.get('base_PsfFlux_flux')[idx]\n",
    "    flux_inst_err = final_catalog.get('base_PsfFlux_fluxSigma')[idx]\n",
    "    flag_gen = final_catalog.get('base_PsfFlux_flag')[idx]\n",
    "    flag_edge = final_catalog.get('base_PsfFlux_flag_edge')[idx]\n",
    "    flag_nogood = final_catalog.get('base_PsfFlux_flag_noGoodPixels')[idx]\n",
    "    visit = final_catalog.get('visit')[idx]\n",
    "    flux = []\n",
    "    flux_err = []\n",
    "    for f, f_err, v, fl1, fl2, fl3 in zip(flux_inst, flux_inst_err, visit, flag_gen, flag_edge, flag_nogood):\n",
    "        if f > 0. and not (fl1|fl2|fl3):\n",
    "            calib = calexps[v].getCalib()\n",
    "            flux.append(fluxFromABMag(calib.getMagnitude(f)))\n",
    "            flux_err.append(fluxFromABMag(calib.getMagnitude(f_err)))\n",
    "    flux = numpy.array(flux)\n",
    "    flux_err = numpy.array(flux_err)\n",
    "    object_count[obj_id] = len(flux)\n",
    "    avg_flux[obj_id] = numpy.average(flux)\n",
    "    stdev_flux[obj_id] = numpy.std(flux)\n",
    "    avg_snr[obj_id] = sum(flux/flux_err)"
   ]
  },
  {
   "cell_type": "code",
   "execution_count": null,
   "metadata": {},
   "outputs": [],
   "source": [
    "matcher = DirectMatchTask(butler=butler)"
   ]
  },
  {
   "cell_type": "code",
   "execution_count": null,
   "metadata": {},
   "outputs": [],
   "source": [
    "matches = matcher.run(final_catalog, filterName='r').matches"
   ]
  },
  {
   "cell_type": "code",
   "execution_count": null,
   "metadata": {},
   "outputs": [],
   "source": [
    "ref_mags = {}\n",
    "for match in matches:\n",
    "    object_id = match.second.get('object')\n",
    "    ref_mags[object_id] = abMagFromFlux(match.first.get('r_flux'))"
   ]
  },
  {
   "cell_type": "code",
   "execution_count": null,
   "metadata": {
    "collapsed": true
   },
   "outputs": [],
   "source": [
    "mags = []\n",
    "g_flux = []\n",
    "g_flux_std = []\n",
    "g_snr = []\n",
    "ids = []\n",
    "for obj_id in unique_object_ids:\n",
    "    if object_count[obj_id] > 8:\n",
    "        g_flux.append(avg_flux[obj_id])\n",
    "        g_flux_std.append(stdev_flux[obj_id])\n",
    "        g_snr.append(avg_snr[obj_id])\n",
    "        mags.append(abMagFromFlux(avg_flux[obj_id]))\n",
    "        ids.append(obj_id)\n",
    "g_flux = numpy.array(g_flux)\n",
    "g_flux_std = numpy.array(g_flux_std)"
   ]
  },
  {
   "cell_type": "code",
   "execution_count": null,
   "metadata": {},
   "outputs": [],
   "source": [
    "for i, m in zip(ids, mags):\n",
    "    if i in ref_mags:\n",
    "        plt.scatter(m, ref_mags[i]/m, color='b', alpha=0.5)\n",
    "plt.ylim(0.98, 1.02) # there is one significant outlier"
   ]
  },
  {
   "cell_type": "code",
   "execution_count": null,
   "metadata": {
    "collapsed": false
   },
   "outputs": [],
   "source": [
    "plt.scatter(mags, g_snr)"
   ]
  },
  {
   "cell_type": "code",
   "execution_count": null,
   "metadata": {
    "collapsed": false
   },
   "outputs": [],
   "source": [
    "plt.scatter(ids, g_snr/(g_flux/g_flux_std))"
   ]
  },
  {
   "cell_type": "code",
   "execution_count": null,
   "metadata": {},
   "outputs": [],
   "source": [
    "idx = numpy.where(g_snr/(g_flux/g_flux_std) > 800)[0]"
   ]
  },
  {
   "cell_type": "code",
   "execution_count": null,
   "metadata": {},
   "outputs": [],
   "source": [
    "outlier_ids = [ids[el] for el in idx]"
   ]
  },
  {
   "cell_type": "code",
   "execution_count": null,
   "metadata": {},
   "outputs": [],
   "source": [
    "outlier1_idx = numpy.where(final_catalog.get('object')==outlier_ids[0])[0]\n",
    "outlier2_idx = numpy.where(final_catalog.get('object')==outlier_ids[1])[0]"
   ]
  },
  {
   "cell_type": "code",
   "execution_count": null,
   "metadata": {},
   "outputs": [],
   "source": [
    "len(final_catalog)"
   ]
  },
  {
   "cell_type": "code",
   "execution_count": null,
   "metadata": {},
   "outputs": [],
   "source": []
  }
 ],
 "metadata": {
  "kernelspec": {
   "display_name": "LSST_Stack (Python 3)",
   "language": "python",
   "name": "lsst_stack"
  },
  "language_info": {
   "codemirror_mode": {
    "name": "ipython",
    "version": 3
   },
   "file_extension": ".py",
   "mimetype": "text/x-python",
   "name": "python",
   "nbconvert_exporter": "python",
   "pygments_lexer": "ipython3",
   "version": "3.6.2"
  }
 },
 "nbformat": 4,
 "nbformat_minor": 2
}

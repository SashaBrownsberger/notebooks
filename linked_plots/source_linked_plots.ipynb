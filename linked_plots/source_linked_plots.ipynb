{
 "cells": [
  {
   "cell_type": "markdown",
   "metadata": {},
   "source": [
    "# Interactive Plots with Bokeh in JupyterLab\n",
    "\n",
    "This notebook provides an example for setting up interactive Bokeh plots in the JupyterLab environment. The heavylifting, however, is done in other code. The *jupyterutils* module handles wrapping the Bokeh document generation and showing in code that will attach it to the JupyterLab environment since the ports are not readily accessible. The *source_plots* module is where all of the arrangement and data handling for the plots is done. \n",
    "\n",
    "The plotting class only requires a *Butler* to retrieve the necessary information. A selector is generated from all the dataid's in the *Butler* for the **calexp** data type. Selecting one of the entries creates the star-galaxy separation plot. Clicking on one of the glyphs in that plot will bring up a 2D postage stamp of the source and a plot of the pixel area normalized circular aperture flux versus pixel radius. "
   ]
  },
  {
   "cell_type": "code",
   "execution_count": 29,
   "metadata": {},
   "outputs": [],
   "source": [
    "import importlib\n",
    "import os\n",
    "\n",
    "import lsst.daf.persistence as dafPersist\n",
    "\n",
    "from jupyterutils import show_with_bokeh_server\n",
    "\n",
    "import source_plots as sp"
   ]
  },
  {
   "cell_type": "code",
   "execution_count": 30,
   "metadata": {},
   "outputs": [],
   "source": [
    "butler = dafPersist.Butler('/home/shared/twinkles/output_data_v2')"
   ]
  },
  {
   "cell_type": "code",
   "execution_count": 31,
   "metadata": {},
   "outputs": [],
   "source": [
    "# Only required if developing the underlying code.\n",
    "#importlib.reload(sp)"
   ]
  },
  {
   "cell_type": "code",
   "execution_count": 32,
   "metadata": {},
   "outputs": [],
   "source": [
    "# The source_plots class only needs a Butler to function.\n",
    "plot = sp.source_plots(butler)"
   ]
  },
  {
   "cell_type": "code",
   "execution_count": 33,
   "metadata": {},
   "outputs": [
    {
     "name": "stderr",
     "output_type": "stream",
     "text": [
      "WARNING:bokeh.server.util:Host wildcard '*' will allow connections originating from multiple (or possibly all) hostnames or IPs. Use non-wildcard values to restrict access explicitly\n"
     ]
    },
    {
     "data": {
      "application/vnd.bokehjs_exec.v0+json": "",
      "text/html": [
       "\n",
       "<script\n",
       "    src=\"https://sysengdemo.lsst.codes/user/mareuter/proxy/41130/autoload.js?bokeh-autoload-element=6b669ac9-c00c-40d2-9f83-0118ef053227&bokeh-app-path=/user/mareuter/proxy/41130&bokeh-absolute-url=https://sysengdemo.lsst.codes/user/mareuter/proxy/41130&resources=none\"\n",
       "    id=\"6b669ac9-c00c-40d2-9f83-0118ef053227\"\n",
       "    data-bokeh-model-id=\"\"\n",
       "    data-bokeh-doc-id=\"\"\n",
       "></script>"
      ]
     },
     "metadata": {
      "application/vnd.bokehjs_exec.v0+json": {
       "server_id": "df468d843c6446a0a43394d00e1e3c14"
      }
     },
     "output_type": "display_data"
    }
   ],
   "source": [
    "show_with_bokeh_server(plot.make_plot)"
   ]
  },
  {
   "cell_type": "code",
   "execution_count": null,
   "metadata": {},
   "outputs": [],
   "source": []
  }
 ],
 "metadata": {
  "kernelspec": {
   "display_name": "LSST_Stack (Python 3)",
   "language": "python",
   "name": "lsst_stack"
  },
  "language_info": {
   "codemirror_mode": {
    "name": "ipython",
    "version": 3
   },
   "file_extension": ".py",
   "mimetype": "text/x-python",
   "name": "python",
   "nbconvert_exporter": "python",
   "pygments_lexer": "ipython3",
   "version": "3.6.2"
  }
 },
 "nbformat": 4,
 "nbformat_minor": 2
}
